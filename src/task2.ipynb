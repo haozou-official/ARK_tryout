{
  "nbformat": 4,
  "nbformat_minor": 0,
  "metadata": {
    "colab": {
      "name": "Task2.ipynb",
      "provenance": [],
      "collapsed_sections": []
    },
    "kernelspec": {
      "name": "python3",
      "display_name": "Python 3"
    },
    "language_info": {
      "name": "python"
    }
  },
  "cells": [
    {
      "cell_type": "code",
      "metadata": {
        "colab": {
          "base_uri": "https://localhost:8080/"
        },
        "id": "vt3s2UsZ9XkT",
        "outputId": "5c6c7379-6698-437f-87c7-4c3145092e52"
      },
      "source": [
        "import os, sys\n",
        "\n",
        "print('Importing dataset...')\n",
        "\n",
        "from google.colab import drive\n",
        "drive.mount('/content/drive')\n",
        "os.chdir(\"drive/My Drive/ARK Task\")"
      ],
      "execution_count": null,
      "outputs": [
        {
          "output_type": "stream",
          "text": [
            "Importing dataset...\n",
            "Mounted at /content/drive\n"
          ],
          "name": "stdout"
        }
      ]
    },
    {
      "cell_type": "code",
      "metadata": {
        "colab": {
          "base_uri": "https://localhost:8080/"
        },
        "id": "L-Ke3uDeAD5A",
        "outputId": "9d6d5c35-3afe-4919-b875-bbdc21a1cb34"
      },
      "source": [
        "!ls"
      ],
      "execution_count": null,
      "outputs": [
        {
          "output_type": "stream",
          "text": [
            " corpus.csv   model1_save\t\t part1_version1.txt  'To Do.gdoc'\n",
            " label0.csv   NeuralTextSimplification\t Task2.ipynb\t      train.txt\n",
            " label1.csv   OpenNMT-py\t\t test.rand.txt\n"
          ],
          "name": "stdout"
        }
      ]
    },
    {
      "cell_type": "code",
      "metadata": {
        "id": "Hg94Iri69dxB"
      },
      "source": [
        "import pandas as pd\n",
        "import numpy as np\n",
        "\n",
        "# Load the dataset into a pandas dataframe.\n",
        "df = pd.read_csv(\"./train.txt\", delimiter='\\n', header=None, encoding='ISO-8859-1')"
      ],
      "execution_count": null,
      "outputs": []
    },
    {
      "cell_type": "code",
      "metadata": {
        "colab": {
          "base_uri": "https://localhost:8080/",
          "height": 105
        },
        "id": "9jhxf3k_Aj0H",
        "outputId": "350082cd-d635-45b9-d6a5-c3a5937d5c6a"
      },
      "source": [
        "df[0][0]"
      ],
      "execution_count": null,
      "outputs": [
        {
          "output_type": "execute_result",
          "data": {
            "application/vnd.google.colaboratory.intrinsic+json": {
              "type": "string"
            },
            "text/plain": [
              "'En route , they pick up a seemingly-harmless hitchhiker , and continue their journey , only for their car to break down in a deserted motel on a lonely highway .\\tEn route , they pick up a seemingly-harmless hitchhiker , and continue their , journey only for their car to break down in a deserted motel on a lonely highway .'"
            ]
          },
          "metadata": {
            "tags": []
          },
          "execution_count": 102
        }
      ]
    },
    {
      "cell_type": "code",
      "metadata": {
        "id": "bqRv7E009mWq"
      },
      "source": [
        "english = []\n",
        "for i in range(len(df)):\n",
        "  item = df[0][i].split('\\t')\n",
        "  english.append(item[0])"
      ],
      "execution_count": null,
      "outputs": []
    },
    {
      "cell_type": "code",
      "metadata": {
        "colab": {
          "base_uri": "https://localhost:8080/"
        },
        "id": "so8EMcdHg6Oq",
        "outputId": "d625293b-fdb0-4c35-97a4-44dd5b45ecb8"
      },
      "source": [
        "len(english)"
      ],
      "execution_count": null,
      "outputs": [
        {
          "output_type": "execute_result",
          "data": {
            "text/plain": [
              "998701"
            ]
          },
          "metadata": {
            "tags": []
          },
          "execution_count": 70
        }
      ]
    },
    {
      "cell_type": "code",
      "metadata": {
        "colab": {
          "base_uri": "https://localhost:8080/",
          "height": 35
        },
        "id": "dNufaonCAzQh",
        "outputId": "d2dbbb55-76aa-4637-c550-4682f8ab730d"
      },
      "source": [
        "test = english[0]+\"\\t\"+\"we love family\"\n",
        "test"
      ],
      "execution_count": null,
      "outputs": [
        {
          "output_type": "execute_result",
          "data": {
            "application/vnd.google.colaboratory.intrinsic+json": {
              "type": "string"
            },
            "text/plain": [
              "'En route , they pick up a seemingly-harmless hitchhiker , and continue their journey , only for their car to break down in a deserted motel on a lonely highway .\\twe love family'"
            ]
          },
          "metadata": {
            "tags": []
          },
          "execution_count": 13
        }
      ]
    },
    {
      "cell_type": "markdown",
      "metadata": {
        "id": "ik1EEud0BxOc"
      },
      "source": [
        "# Word Errors"
      ]
    },
    {
      "cell_type": "code",
      "metadata": {
        "colab": {
          "base_uri": "https://localhost:8080/"
        },
        "id": "A0Etvau8Brae",
        "outputId": "ef829afb-ce6d-48da-e66d-382cb931c8a0"
      },
      "source": [
        "import nltk\n",
        "nltk.download('punkt')\n",
        "nltk.download('averaged_perceptron_tagger')"
      ],
      "execution_count": null,
      "outputs": [
        {
          "output_type": "stream",
          "text": [
            "[nltk_data] Downloading package punkt to /root/nltk_data...\n",
            "[nltk_data]   Unzipping tokenizers/punkt.zip.\n",
            "[nltk_data] Downloading package averaged_perceptron_tagger to\n",
            "[nltk_data]     /root/nltk_data...\n",
            "[nltk_data]   Unzipping taggers/averaged_perceptron_tagger.zip.\n"
          ],
          "name": "stdout"
        },
        {
          "output_type": "execute_result",
          "data": {
            "text/plain": [
              "True"
            ]
          },
          "metadata": {
            "tags": []
          },
          "execution_count": 5
        }
      ]
    },
    {
      "cell_type": "code",
      "metadata": {
        "id": "vMA3yuU7DTy1"
      },
      "source": [
        "is_det = lambda pos: pos[:2] == 'DT' # 28%\n",
        "is_verb = lambda pos: pos[:2] == 'VB' # 23%\n",
        "is_prep = lambda pos: pos[:2] == 'IN' # 21%\n",
        "is_pro = lambda pos: pos[:2] == 'PR' # 10%\n",
        "is_noun = lambda pos: pos[:2] == 'NN' # 7%\n",
        "is_to = lambda pos: pos[:2] == 'TO' # 7%\n",
        "is_conj = lambda pos: pos[:2] == 'CC' # 2%"
      ],
      "execution_count": null,
      "outputs": []
    },
    {
      "cell_type": "code",
      "metadata": {
        "id": "ZSv4FAc6Hz8h"
      },
      "source": [
        "from random import sample\n",
        "import re\n",
        "import random\n",
        "from itertools import islice"
      ],
      "execution_count": null,
      "outputs": []
    },
    {
      "cell_type": "code",
      "metadata": {
        "id": "ao9tln1xu4fK"
      },
      "source": [
        "random.shuffle(english)"
      ],
      "execution_count": null,
      "outputs": []
    },
    {
      "cell_type": "code",
      "metadata": {
        "id": "aEzqWzoWwNXg"
      },
      "source": [
        "Input = [1, 2, 3, 4, 5, 6, 7]\n",
        "length_to_split = [2, 1, 3, 1]\n",
        "Inputt = iter(Input)\n",
        "Output = [list(islice(Inputt, elem))\n",
        "          for elem in length_to_split]"
      ],
      "execution_count": null,
      "outputs": []
    },
    {
      "cell_type": "code",
      "metadata": {
        "colab": {
          "base_uri": "https://localhost:8080/"
        },
        "id": "w_tAKIVEwR3s",
        "outputId": "5b62d01b-6781-4af9-bc0a-9df4ef82b000"
      },
      "source": [
        "Output"
      ],
      "execution_count": null,
      "outputs": [
        {
          "output_type": "execute_result",
          "data": {
            "text/plain": [
              "[[1, 2], [3], [4, 5, 6], [7]]"
            ]
          },
          "metadata": {
            "tags": []
          },
          "execution_count": 50
        }
      ]
    },
    {
      "cell_type": "markdown",
      "metadata": {
        "id": "2okGWZu3w2C6"
      },
      "source": [
        "## split into sublists"
      ]
    },
    {
      "cell_type": "code",
      "metadata": {
        "colab": {
          "base_uri": "https://localhost:8080/"
        },
        "id": "BzabGMTBDE5o",
        "outputId": "80107702-bc92-4d72-b32e-34db42bdf57f"
      },
      "source": [
        "english[:5]"
      ],
      "execution_count": null,
      "outputs": [
        {
          "output_type": "execute_result",
          "data": {
            "text/plain": [
              "['There is no European code of ethics, however, and there are no agreements at national level.',\n",
              " 'The Shepherd is in charge of making children sleep peacefully , but Tim is not about to go to bed .',\n",
              " \"The wand given to Alora transforms into a spear , and the Princess pierces the dragon 's heart .\",\n",
              " \"I was particularly struck by Paragraph 15, in which the European Parliament 'calls on the Commission to strengthen the structural funds' potential through simplification, flexibility and improvement of procedures ... with the aims of helping Member States to optimise the output of social and employment policies and creating sustainable growth'.\",\n",
              " 'A traveling salessman meets a beautiful young girl by a motel swimming pool and picks her up .']"
            ]
          },
          "metadata": {
            "tags": []
          },
          "execution_count": 105
        }
      ]
    },
    {
      "cell_type": "code",
      "metadata": {
        "id": "PTcvLLnzGzjg"
      },
      "source": [
        "spelling_size = int(0.24 * len(english))\n",
        "agreement_size = int(0.24 * len(english))\n",
        "extra_size = int(0.24 * len(english))\n",
        "missing_size = int(0.17 * len(english))\n",
        "combination_size = int(0.11 * len(english))"
      ],
      "execution_count": null,
      "outputs": []
    },
    {
      "cell_type": "code",
      "metadata": {
        "id": "zKV-t_C-Ic72"
      },
      "source": [
        "sub_sizes = [missing_size, extra_size, spelling_size, agreement_size, combination_size]"
      ],
      "execution_count": null,
      "outputs": []
    },
    {
      "cell_type": "code",
      "metadata": {
        "colab": {
          "base_uri": "https://localhost:8080/"
        },
        "id": "hldI6-_hkzTO",
        "outputId": "2beaea87-c09a-4086-e25c-e466f63f9326"
      },
      "source": [
        "print(missing_size, extra_size, spelling_size, agreement_size, combination_size)"
      ],
      "execution_count": null,
      "outputs": [
        {
          "output_type": "stream",
          "text": [
            "169779 239688 239688 239688 109857\n"
          ],
          "name": "stdout"
        }
      ]
    },
    {
      "cell_type": "code",
      "metadata": {
        "id": "7IRyi_npIYXP"
      },
      "source": [
        "Input = iter(english)\n",
        "Output = [list(islice(Input, elem)) for elem in sub_sizes]"
      ],
      "execution_count": null,
      "outputs": []
    },
    {
      "cell_type": "code",
      "metadata": {
        "id": "rJix2r1kIt8p"
      },
      "source": [
        "missing_lst = Output[0]\n",
        "extra_lst = Output[1]\n",
        "spelling_lst = Output[2]\n",
        "agreement_lst = Output[3]\n",
        "combination_lst = Output[4]"
      ],
      "execution_count": null,
      "outputs": []
    },
    {
      "cell_type": "markdown",
      "metadata": {
        "id": "ALw9UfHGJrlC"
      },
      "source": [
        "## 1. missing word"
      ]
    },
    {
      "cell_type": "code",
      "metadata": {
        "id": "kCgpV35ewd6u"
      },
      "source": [
        "det_size = int(0.28 * missing_size)\n",
        "verb_size = int(0.23 * missing_size)\n",
        "prep_size = int(0.21 * missing_size)\n",
        "pro_size = int(0.10 * missing_size)\n",
        "noun_size = int(0.07 * missing_size)\n",
        "to_size = int(0.07 * missing_size)\n",
        "conj_size = int(0.04 * missing_size)\n",
        "\n",
        "sub_sizes = [det_size,verb_size,prep_size,pro_size,noun_size,to_size,conj_size]"
      ],
      "execution_count": null,
      "outputs": []
    },
    {
      "cell_type": "code",
      "metadata": {
        "colab": {
          "base_uri": "https://localhost:8080/"
        },
        "id": "GpttYbR7lqSg",
        "outputId": "0336ac9e-5884-49b6-e522-be504e23ec58"
      },
      "source": [
        "sub_sizes"
      ],
      "execution_count": null,
      "outputs": [
        {
          "output_type": "execute_result",
          "data": {
            "text/plain": [
              "[47538, 39049, 35653, 16977, 11884, 11884, 6791]"
            ]
          },
          "metadata": {
            "tags": []
          },
          "execution_count": 114
        }
      ]
    },
    {
      "cell_type": "code",
      "metadata": {
        "colab": {
          "base_uri": "https://localhost:8080/"
        },
        "id": "2tm3UXLQLhby",
        "outputId": "46396bc7-f24a-43d1-fd90-9d55c46358f8"
      },
      "source": [
        "missing_size"
      ],
      "execution_count": null,
      "outputs": [
        {
          "output_type": "execute_result",
          "data": {
            "text/plain": [
              "169779"
            ]
          },
          "metadata": {
            "tags": []
          },
          "execution_count": 16
        }
      ]
    },
    {
      "cell_type": "code",
      "metadata": {
        "colab": {
          "base_uri": "https://localhost:8080/"
        },
        "id": "zSUmaFwTLOr5",
        "outputId": "5300e09c-2cce-4c54-c452-ae0c5495e47b"
      },
      "source": [
        "len(missing_lst)"
      ],
      "execution_count": null,
      "outputs": [
        {
          "output_type": "execute_result",
          "data": {
            "text/plain": [
              "169779"
            ]
          },
          "metadata": {
            "tags": []
          },
          "execution_count": 115
        }
      ]
    },
    {
      "cell_type": "code",
      "metadata": {
        "id": "JB-nfB7kyjmp"
      },
      "source": [
        "Input = iter(missing_lst)\n",
        "Output = [list(islice(Input, elem)) for elem in sub_sizes]"
      ],
      "execution_count": null,
      "outputs": []
    },
    {
      "cell_type": "code",
      "metadata": {
        "colab": {
          "base_uri": "https://localhost:8080/"
        },
        "id": "f4crr5uHy1lG",
        "outputId": "3dc28f76-9a29-459b-8078-fd92084180ae"
      },
      "source": [
        "len(Output), len(Output[0])"
      ],
      "execution_count": null,
      "outputs": [
        {
          "output_type": "execute_result",
          "data": {
            "text/plain": [
              "(7, 47538)"
            ]
          },
          "metadata": {
            "tags": []
          },
          "execution_count": 117
        }
      ]
    },
    {
      "cell_type": "code",
      "metadata": {
        "id": "RSeqJGaizOJ9"
      },
      "source": [
        "det_sentence_lst = Output[0]\n",
        "verb_sentence_lst = Output[1]\n",
        "prep_sentence_lst = Output[2]\n",
        "pro_sentence_lst = Output[3]\n",
        "noun_sentence_lst = Output[4]\n",
        "to_sentence_lst = Output[5]\n",
        "conj_sentence_lst = Output[6]"
      ],
      "execution_count": null,
      "outputs": []
    },
    {
      "cell_type": "code",
      "metadata": {
        "colab": {
          "base_uri": "https://localhost:8080/",
          "height": 53
        },
        "id": "yQ4Po_aYgRuJ",
        "outputId": "9e29338f-b13a-4f15-e3ea-f23f748e0c18"
      },
      "source": [
        "det_sentence_lst[-1]"
      ],
      "execution_count": null,
      "outputs": [
        {
          "output_type": "execute_result",
          "data": {
            "application/vnd.google.colaboratory.intrinsic+json": {
              "type": "string"
            },
            "text/plain": [
              "'Based on experience with the current directive, a closed scope gives greater certainty and makes the legislation easier to implement.'"
            ]
          },
          "metadata": {
            "tags": []
          },
          "execution_count": 28
        }
      ]
    },
    {
      "cell_type": "code",
      "metadata": {
        "colab": {
          "base_uri": "https://localhost:8080/",
          "height": 53
        },
        "id": "7VGRKqmzggBg",
        "outputId": "010f1ec3-da6b-43bc-e823-3e61c3fe46f1"
      },
      "source": [
        "correction[47537]"
      ],
      "execution_count": null,
      "outputs": [
        {
          "output_type": "execute_result",
          "data": {
            "application/vnd.google.colaboratory.intrinsic+json": {
              "type": "string"
            },
            "text/plain": [
              "'Based on experience with the current directive, a closed scope gives greater certainty and makes the legislation easier to implement.'"
            ]
          },
          "metadata": {
            "tags": []
          },
          "execution_count": 29
        }
      ]
    },
    {
      "cell_type": "code",
      "metadata": {
        "colab": {
          "base_uri": "https://localhost:8080/",
          "height": 53
        },
        "id": "CU1OexDognLk",
        "outputId": "5621aece-34c4-4c55-f55d-07c3da37868b"
      },
      "source": [
        "conj_sentence_lst[-1]"
      ],
      "execution_count": null,
      "outputs": [
        {
          "output_type": "execute_result",
          "data": {
            "application/vnd.google.colaboratory.intrinsic+json": {
              "type": "string"
            },
            "text/plain": [
              "\"Velu 's lack of focus in the game is replaced by his best on seeing Dhanalakshmi , winning Tamil Nadu the championship .\""
            ]
          },
          "metadata": {
            "tags": []
          },
          "execution_count": 30
        }
      ]
    },
    {
      "cell_type": "code",
      "metadata": {
        "colab": {
          "base_uri": "https://localhost:8080/",
          "height": 35
        },
        "id": "U3dvv1jQhzpt",
        "outputId": "5bbb77ed-0cd3-41be-b9ea-2d0ad554dc34"
      },
      "source": [
        "correction[169775]"
      ],
      "execution_count": null,
      "outputs": [
        {
          "output_type": "execute_result",
          "data": {
            "application/vnd.google.colaboratory.intrinsic+json": {
              "type": "string"
            },
            "text/plain": [
              "\"Velu 's lack of focus in the game is replaced by his best on seeing Dhanalakshmi , winning Tamil Nadu the championship .\""
            ]
          },
          "metadata": {
            "tags": []
          },
          "execution_count": 31
        }
      ]
    },
    {
      "cell_type": "code",
      "metadata": {
        "colab": {
          "base_uri": "https://localhost:8080/"
        },
        "id": "bBqN277lpCTe",
        "outputId": "3a526b25-6404-40a2-b0c5-4166e05d2d1a"
      },
      "source": [
        "english[:5]"
      ],
      "execution_count": null,
      "outputs": [
        {
          "output_type": "execute_result",
          "data": {
            "text/plain": [
              "['There is no European code of ethics, however, and there are no agreements at national level.',\n",
              " 'The Shepherd is in charge of making children sleep peacefully , but Tim is not about to go to bed .',\n",
              " \"The wand given to Alora transforms into a spear , and the Princess pierces the dragon 's heart .\",\n",
              " \"I was particularly struck by Paragraph 15, in which the European Parliament 'calls on the Commission to strengthen the structural funds' potential through simplification, flexibility and improvement of procedures ... with the aims of helping Member States to optimise the output of social and employment policies and creating sustainable growth'.\",\n",
              " 'A traveling salessman meets a beautiful young girl by a motel swimming pool and picks her up .']"
            ]
          },
          "metadata": {
            "tags": []
          },
          "execution_count": 119
        }
      ]
    },
    {
      "cell_type": "code",
      "metadata": {
        "id": "bSkSnY4hu8wc"
      },
      "source": [
        "correction = []\n",
        "correction = english.copy()"
      ],
      "execution_count": null,
      "outputs": []
    },
    {
      "cell_type": "code",
      "metadata": {
        "colab": {
          "base_uri": "https://localhost:8080/"
        },
        "id": "9NWumqTMvA7c",
        "outputId": "95c98641-a30f-4a4a-8092-743721fd20d9"
      },
      "source": [
        "correction[:5]"
      ],
      "execution_count": null,
      "outputs": [
        {
          "output_type": "execute_result",
          "data": {
            "text/plain": [
              "['There is no European code of ethics, however, and there are no agreements at national level.',\n",
              " 'The Shepherd is in charge of making children sleep peacefully , but Tim is not about to go to bed .',\n",
              " \"The wand given to Alora transforms into a spear , and the Princess pierces the dragon 's heart .\",\n",
              " \"I was particularly struck by Paragraph 15, in which the European Parliament 'calls on the Commission to strengthen the structural funds' potential through simplification, flexibility and improvement of procedures ... with the aims of helping Member States to optimise the output of social and employment policies and creating sustainable growth'.\",\n",
              " 'A traveling salessman meets a beautiful young girl by a motel swimming pool and picks her up .']"
            ]
          },
          "metadata": {
            "tags": []
          },
          "execution_count": 126
        }
      ]
    },
    {
      "cell_type": "code",
      "metadata": {
        "id": "eSpA_JBx26BE"
      },
      "source": [
        "for i in range(1, 47538):\n",
        "  txt_out = nltk.word_tokenize(correction[i])\n",
        "  det_lst = [word for (word, pos) in nltk.pos_tag(txt_out) if is_det(pos)]\n",
        "  if det_lst != []:\n",
        "    result = english[i].replace(det_lst[0], '', 1)\n",
        "  else:\n",
        "    result = english[i]\n",
        "  correction[i] = result\n",
        "\n",
        "for i in range(47538, 86587):\n",
        "  txt_out = nltk.word_tokenize(correction[i])\n",
        "  verb_lst = [word for (word, pos) in nltk.pos_tag(txt_out) if is_verb(pos)]\n",
        "  if verb_lst != []:\n",
        "    result = english[i].replace(verb_lst[0], '', 1)\n",
        "  else:\n",
        "    result = english[i]\n",
        "  correction[i] = result\n",
        "\n",
        "for i in range(86587, 122240):\n",
        "  txt_out = nltk.word_tokenize(correction[i])\n",
        "  prep_lst = [word for (word, pos) in nltk.pos_tag(txt_out) if is_prep(pos)]\n",
        "  if prep_lst != []:\n",
        "    result = english[i].replace(prep_lst[0], '', 1)\n",
        "  else:\n",
        "    result = english[i]\n",
        "  correction[i] = result\n",
        "\n",
        "for i in range(122240, 139217):\n",
        "  txt_out = nltk.word_tokenize(correction[i])\n",
        "  pro_lst = [word for (word, pos) in nltk.pos_tag(txt_out) if is_pro(pos)]\n",
        "  if pro_lst != []:\n",
        "    result = english[i].replace(pro_lst[0], '', 1)\n",
        "  else:\n",
        "    result = english[i]\n",
        "  correction[i] = result\n",
        "\n",
        "for i in range(139217, 151101):\n",
        "  txt_out = nltk.word_tokenize(correction[i])\n",
        "  noun_lst = [word for (word, pos) in nltk.pos_tag(txt_out) if is_noun(pos)]\n",
        "  if noun_lst != []:\n",
        "    result = english[i].replace(noun_lst[0], '', 1)\n",
        "  else:\n",
        "    result = english[i]\n",
        "  correction[i] = result\n",
        "\n",
        "for i in range(151101, 162985):\n",
        "  txt_out = nltk.word_tokenize(correction[i])\n",
        "  to_lst = [word for (word, pos) in nltk.pos_tag(txt_out) if is_to(pos)]\n",
        "  if to_lst != []:\n",
        "    result = english[i].replace(to_lst[0], '', 1)\n",
        "  else:\n",
        "    result = english[i]\n",
        "  correction[i] = result\n",
        "\n",
        "for i in range(162985, 169779):\n",
        "  txt_out = nltk.word_tokenize(correction[i])\n",
        "  conj_lst = [word for (word, pos) in nltk.pos_tag(txt_out) if is_conj(pos)]\n",
        "  if conj_lst != []:\n",
        "    result = english[i].replace(conj_lst[0], '', 1)\n",
        "  else:\n",
        "    result = english[i]\n",
        "  correction[i] = result"
      ],
      "execution_count": null,
      "outputs": []
    },
    {
      "cell_type": "code",
      "metadata": {
        "colab": {
          "base_uri": "https://localhost:8080/"
        },
        "id": "rF1LfS5HmmQl",
        "outputId": "437fa140-be1b-43ca-daaf-25fd49b941f3"
      },
      "source": [
        "english[:5]"
      ],
      "execution_count": null,
      "outputs": [
        {
          "output_type": "execute_result",
          "data": {
            "text/plain": [
              "['There is no European code of ethics, however, and there are no agreements at national level.',\n",
              " 'The Shepherd is in charge of making children sleep peacefully , but Tim is not about to go to bed .',\n",
              " \"The wand given to Alora transforms into a spear , and the Princess pierces the dragon 's heart .\",\n",
              " \"I was particularly struck by Paragraph 15, in which the European Parliament 'calls on the Commission to strengthen the structural funds' potential through simplification, flexibility and improvement of procedures ... with the aims of helping Member States to optimise the output of social and employment policies and creating sustainable growth'.\",\n",
              " 'A traveling salessman meets a beautiful young girl by a motel swimming pool and picks her up .']"
            ]
          },
          "metadata": {
            "tags": []
          },
          "execution_count": 128
        }
      ]
    },
    {
      "cell_type": "code",
      "metadata": {
        "colab": {
          "base_uri": "https://localhost:8080/"
        },
        "id": "YjfHaYMTmkeH",
        "outputId": "1ca4cb6f-f7be-4a38-8147-647b9d78b97d"
      },
      "source": [
        "correction[:5]"
      ],
      "execution_count": null,
      "outputs": [
        {
          "output_type": "execute_result",
          "data": {
            "text/plain": [
              "['There is no European code of ethics, however, and there are no agreements at national level.',\n",
              " ' Shepherd is in charge of making children sleep peacefully , but Tim is not about to go to bed .',\n",
              " \" wand given to Alora transforms into a spear , and the Princess pierces the dragon 's heart .\",\n",
              " \"I was particularly struck by Paragraph 15, in which  European Parliament 'calls on the Commission to strengthen the structural funds' potential through simplification, flexibility and improvement of procedures ... with the aims of helping Member States to optimise the output of social and employment policies and creating sustainable growth'.\",\n",
              " ' traveling salessman meets a beautiful young girl by a motel swimming pool and picks her up .']"
            ]
          },
          "metadata": {
            "tags": []
          },
          "execution_count": 129
        }
      ]
    },
    {
      "cell_type": "code",
      "metadata": {
        "id": "spsPD2-rN7nF"
      },
      "source": [
        "un_errored_index = []\n",
        "for i in range(0, 169779):\n",
        "  if english[i] == correction[i]:\n",
        "    un_errored_index.append(i)"
      ],
      "execution_count": null,
      "outputs": []
    },
    {
      "cell_type": "code",
      "metadata": {
        "colab": {
          "base_uri": "https://localhost:8080/"
        },
        "id": "B4RBZwZbmIhq",
        "outputId": "031f537e-4b67-47a6-86c5-09c5485f4612"
      },
      "source": [
        "len(un_errored_index)"
      ],
      "execution_count": null,
      "outputs": [
        {
          "output_type": "execute_result",
          "data": {
            "text/plain": [
              "23988"
            ]
          },
          "metadata": {
            "tags": []
          },
          "execution_count": 131
        }
      ]
    },
    {
      "cell_type": "code",
      "metadata": {
        "id": "l6fcB4_amNlU"
      },
      "source": [
        "# unerrored sentences\n",
        "for i in un_errored_index:\n",
        "  txt_out = nltk.word_tokenize(correction[i])\n",
        "  det_lst = [word for (word, pos) in nltk.pos_tag(txt_out) if is_det(pos)]\n",
        "  if det_lst != []:\n",
        "    result = correction[i].replace(det_lst[0], '', 1)\n",
        "  else:\n",
        "    result = correction[i]\n",
        "  correction[i] = result\n",
        "\n",
        "for i in un_errored_index:\n",
        "  txt_out = nltk.word_tokenize(correction[i])\n",
        "  verb_lst = [word for (word, pos) in nltk.pos_tag(txt_out) if is_verb(pos)]\n",
        "  if verb_lst != []:\n",
        "    result = correction[i].replace(verb_lst[0], '', 1)\n",
        "  else:\n",
        "    result = correction[i]\n",
        "  correction[i] = result"
      ],
      "execution_count": null,
      "outputs": []
    },
    {
      "cell_type": "code",
      "metadata": {
        "id": "ydxUu8eWz6Zx"
      },
      "source": [
        "for i in un_errored_index:\n",
        "  txt_out = nltk.word_tokenize(correction[i])\n",
        "  prep_lst = [word for (word, pos) in nltk.pos_tag(txt_out) if is_prep(pos)]\n",
        "  if prep_lst != []:\n",
        "    result = english[i].replace(prep_lst[0], '', 1)\n",
        "  else:\n",
        "    result = english[i]\n",
        "  correction[i] = result\n",
        "\n",
        "for i in un_errored_index:\n",
        "  txt_out = nltk.word_tokenize(correction[i])\n",
        "  pro_lst = [word for (word, pos) in nltk.pos_tag(txt_out) if is_pro(pos)]\n",
        "  if pro_lst != []:\n",
        "    result = english[i].replace(pro_lst[0], '', 1)\n",
        "  else:\n",
        "    result = english[i]\n",
        "  correction[i] = result\n",
        "\n",
        "for i in un_errored_index:\n",
        "  txt_out = nltk.word_tokenize(correction[i])\n",
        "  conj_lst = [word for (word, pos) in nltk.pos_tag(txt_out) if is_conj(pos)]\n",
        "  if conj_lst != []:\n",
        "    result = english[i].replace(conj_lst[0], '', 1)\n",
        "  else:\n",
        "    result = english[i]\n",
        "  correction[i] = result"
      ],
      "execution_count": null,
      "outputs": []
    },
    {
      "cell_type": "code",
      "metadata": {
        "id": "x8y5sg-s7fbe"
      },
      "source": [
        "for i in un_errored_index:\n",
        "  txt_out = nltk.word_tokenize(correction[i])\n",
        "  noun_lst = [word for (word, pos) in nltk.pos_tag(txt_out) if is_noun(pos)]\n",
        "  if noun_lst != []:\n",
        "    result = english[i].replace(noun_lst[0], '', 1)\n",
        "  else:\n",
        "    result = english[i]\n",
        "  correction[i] = result"
      ],
      "execution_count": null,
      "outputs": []
    },
    {
      "cell_type": "code",
      "metadata": {
        "id": "RFQ8drQI7wFQ"
      },
      "source": [
        "for i in un_errored_index:\n",
        "  txt_out = nltk.word_tokenize(correction[i])\n",
        "  to_lst = [word for (word, pos) in nltk.pos_tag(txt_out) if is_to(pos)]\n",
        "  if to_lst != []:\n",
        "    result = english[i].replace(to_lst[0], '', 1)\n",
        "  else:\n",
        "    result = english[i]\n",
        "  correction[i] = result"
      ],
      "execution_count": null,
      "outputs": []
    },
    {
      "cell_type": "code",
      "metadata": {
        "colab": {
          "base_uri": "https://localhost:8080/"
        },
        "id": "bxQWw5G174OM",
        "outputId": "905ff70d-d716-4220-ee99-cb666347bf0c"
      },
      "source": [
        "un_errored_index[:5]"
      ],
      "execution_count": null,
      "outputs": [
        {
          "output_type": "execute_result",
          "data": {
            "text/plain": [
              "[7368, 24972]"
            ]
          },
          "metadata": {
            "tags": []
          },
          "execution_count": 239
        }
      ]
    },
    {
      "cell_type": "code",
      "metadata": {
        "colab": {
          "base_uri": "https://localhost:8080/",
          "height": 35
        },
        "id": "wdf15NR277ry",
        "outputId": "00b9adc5-3338-4306-ada3-999a772fe752"
      },
      "source": [
        "correction[1181]"
      ],
      "execution_count": null,
      "outputs": [
        {
          "output_type": "execute_result",
          "data": {
            "application/vnd.google.colaboratory.intrinsic+json": {
              "type": "string"
            },
            "text/plain": [
              "\"'No one else.\""
            ]
          },
          "metadata": {
            "tags": []
          },
          "execution_count": 225
        }
      ]
    },
    {
      "cell_type": "code",
      "metadata": {
        "colab": {
          "base_uri": "https://localhost:8080/"
        },
        "id": "bLCzWm9Y7-e9",
        "outputId": "42dafc1b-fef8-4316-c30a-16939cca4fdd"
      },
      "source": [
        "# some other POS\n",
        "txt_out = nltk.word_tokenize(correction[1181])\n",
        "nltk.pos_tag(txt_out)"
      ],
      "execution_count": null,
      "outputs": [
        {
          "output_type": "execute_result",
          "data": {
            "text/plain": [
              "[(\"'No\", 'CD'), ('one', 'CD'), ('else', 'RB'), ('.', '.')]"
            ]
          },
          "metadata": {
            "tags": []
          },
          "execution_count": 227
        }
      ]
    },
    {
      "cell_type": "code",
      "metadata": {
        "colab": {
          "base_uri": "https://localhost:8080/"
        },
        "id": "4M6jz4S98ztp",
        "outputId": "77e162fd-bde6-44b7-88c8-14dd2d8f4921"
      },
      "source": [
        "txt_out = nltk.word_tokenize(correction[7368])\n",
        "nltk.pos_tag(txt_out)"
      ],
      "execution_count": null,
      "outputs": [
        {
          "output_type": "execute_result",
          "data": {
            "text/plain": [
              "[('if', 'IN'), ('they', 'PRP'), ('could', 'MD'), ('.', '.')]"
            ]
          },
          "metadata": {
            "tags": []
          },
          "execution_count": 240
        }
      ]
    },
    {
      "cell_type": "code",
      "metadata": {
        "id": "pGlzmdxl8WAG"
      },
      "source": [
        "is_others = lambda pos: pos[:2] == 'MD'"
      ],
      "execution_count": null,
      "outputs": []
    },
    {
      "cell_type": "code",
      "metadata": {
        "id": "TlKc9Bct8ODy"
      },
      "source": [
        "# some other POS\n",
        "for i in un_errored_index:\n",
        "  txt_out = nltk.word_tokenize(correction[i])\n",
        "  lst = [word for (word, pos) in nltk.pos_tag(txt_out) if is_others(pos)]\n",
        "  if lst != []:\n",
        "    result = english[i].replace(lst[0], '', 1)\n",
        "  else:\n",
        "    result = english[i]\n",
        "  correction[i] = result"
      ],
      "execution_count": null,
      "outputs": []
    },
    {
      "cell_type": "code",
      "metadata": {
        "colab": {
          "base_uri": "https://localhost:8080/"
        },
        "id": "Jams2vTS8vKp",
        "outputId": "6bfeb1f5-5e20-4656-b377-a8a0169d955d"
      },
      "source": [
        "un_errored_index = []\n",
        "for i in range(0, 169779):\n",
        "  if english[i] == correction[i]:\n",
        "    un_errored_index.append(i)\n",
        "\n",
        "len(un_errored_index)"
      ],
      "execution_count": null,
      "outputs": [
        {
          "output_type": "execute_result",
          "data": {
            "text/plain": [
              "0"
            ]
          },
          "metadata": {
            "tags": []
          },
          "execution_count": 246
        }
      ]
    },
    {
      "cell_type": "markdown",
      "metadata": {
        "id": "xvm0jcfCOP-U"
      },
      "source": [
        "## 2. Extra Word"
      ]
    },
    {
      "cell_type": "code",
      "metadata": {
        "id": "LR3kdhVhOXCl"
      },
      "source": [
        "# extra_lst\n",
        "for i in range(169779, 409467):\n",
        "  txt_out = nltk.word_tokenize(correction[i])\n",
        "  duplication = random.choice(txt_out)\n",
        "  index = correction[i].find(duplication)\n",
        "  result = correction[i][:index] + duplication + ' ' + correction[i][index:]\n",
        "  correction[i] = result"
      ],
      "execution_count": null,
      "outputs": []
    },
    {
      "cell_type": "code",
      "metadata": {
        "colab": {
          "base_uri": "https://localhost:8080/"
        },
        "id": "aB34wVK74UBk",
        "outputId": "760a1638-dd53-4639-c2fc-c3e2839e6945"
      },
      "source": [
        "un_errored_index4 = []\n",
        "for i in range(169779, 409467):\n",
        "  if english[i] == correction[i]:\n",
        "    un_errored_index4.append(i)\n",
        "\n",
        "len(un_errored_index4)"
      ],
      "execution_count": null,
      "outputs": [
        {
          "output_type": "execute_result",
          "data": {
            "text/plain": [
              "0"
            ]
          },
          "metadata": {
            "tags": []
          },
          "execution_count": 183
        }
      ]
    },
    {
      "cell_type": "markdown",
      "metadata": {
        "id": "Y_k6-a9pprvZ"
      },
      "source": [
        "## 3. Substitue -> Spelling"
      ]
    },
    {
      "cell_type": "code",
      "metadata": {
        "id": "YgDlmlGrp1eK"
      },
      "source": [
        "def misspeller(word):\n",
        "    characters = 'qwertyuioplkjhgfdsazxcvbnm,. '\n",
        "    rand_word_position = random.randint(-1,len(word))\n",
        "    rand_characters_position = random.randint(0,len(characters)-1)\n",
        "\n",
        "    if rand_word_position == -1:\n",
        "        misspelled_word = characters[rand_characters_position] + word \n",
        "    elif rand_word_position == len(word):\n",
        "        misspelled_word = word + characters[rand_characters_position] \n",
        "    else:\n",
        "        misspelled_word = list(word)\n",
        "        misspelled_word[rand_word_position] = characters[rand_characters_position]\n",
        "        misspelled_word = ''.join(misspelled_word)        \n",
        "    return misspelled_word"
      ],
      "execution_count": null,
      "outputs": []
    },
    {
      "cell_type": "code",
      "metadata": {
        "id": "SQ3ysh_5zaBa"
      },
      "source": [
        "# substitue_lst\n",
        "for i in range(409467, 888843):\n",
        "  s = correction[i]\n",
        "  misspelled_s = ''\n",
        "  misspelled_list = []\n",
        "  for item in s.split(' '):\n",
        "    n = random.randint(0,1)\n",
        "    if n == 1:\n",
        "      misspelled_list.append(misspeller(item))\n",
        "    else:\n",
        "      misspelled_list.append(item)\n",
        "  misspelled_s = ' '.join(misspelled_list)\n",
        "  correction[i] = misspelled_s"
      ],
      "execution_count": null,
      "outputs": []
    },
    {
      "cell_type": "code",
      "metadata": {
        "colab": {
          "base_uri": "https://localhost:8080/"
        },
        "id": "qThBRL1F4n4E",
        "outputId": "0d4c522d-264b-4b10-810b-5eae6fb1c880"
      },
      "source": [
        "un_errored_index5 = []\n",
        "for i in range(409467, 888843):\n",
        "  if english[i] == correction[i]:\n",
        "    un_errored_index5.append(i)\n",
        "\n",
        "len(un_errored_index5)"
      ],
      "execution_count": null,
      "outputs": [
        {
          "output_type": "execute_result",
          "data": {
            "text/plain": [
              "1145"
            ]
          },
          "metadata": {
            "tags": []
          },
          "execution_count": 184
        }
      ]
    },
    {
      "cell_type": "code",
      "metadata": {
        "colab": {
          "base_uri": "https://localhost:8080/"
        },
        "id": "yGDt7IXo43Of",
        "outputId": "28871868-31ba-46d8-8c27-1385f69ca449"
      },
      "source": [
        "un_errored_index5[:5]"
      ],
      "execution_count": null,
      "outputs": [
        {
          "output_type": "execute_result",
          "data": {
            "text/plain": [
              "[409638, 410775, 411143, 411238, 411590]"
            ]
          },
          "metadata": {
            "tags": []
          },
          "execution_count": 185
        }
      ]
    },
    {
      "cell_type": "code",
      "metadata": {
        "id": "kwJKNqWi5om3"
      },
      "source": [
        "for i in un_errored_index8:\n",
        "  s = correction[i]\n",
        "  misspelled_s = ''\n",
        "  misspelled_list = []\n",
        "  for item in s.split(' '):\n",
        "    n = random.randint(0,1)\n",
        "    if n == 1:\n",
        "      misspelled_list.append(misspeller(item))\n",
        "    else:\n",
        "      misspelled_list.append(item)\n",
        "  misspelled_s = ' '.join(misspelled_list)\n",
        "  correction[i] = misspelled_s"
      ],
      "execution_count": null,
      "outputs": []
    },
    {
      "cell_type": "code",
      "metadata": {
        "colab": {
          "base_uri": "https://localhost:8080/"
        },
        "id": "Rfk4-vd85_8m",
        "outputId": "6333d081-5872-45c6-e2d1-433a53ae41d8"
      },
      "source": [
        "un_errored_index8 = []\n",
        "for i in range(409467, 888843):\n",
        "  if english[i] == correction[i]:\n",
        "    un_errored_index8.append(i)\n",
        "\n",
        "len(un_errored_index8)"
      ],
      "execution_count": null,
      "outputs": [
        {
          "output_type": "execute_result",
          "data": {
            "text/plain": [
              "0"
            ]
          },
          "metadata": {
            "tags": []
          },
          "execution_count": 208
        }
      ]
    },
    {
      "cell_type": "markdown",
      "metadata": {
        "id": "3Lsuo8Hz19fd"
      },
      "source": [
        "## 4. Combination"
      ]
    },
    {
      "cell_type": "code",
      "metadata": {
        "id": "7nGJ9-XO2AgV"
      },
      "source": [
        "# combination_lst\n",
        "# missing word\n",
        "for i in range(888843, 925462):\n",
        "  txt_out = nltk.word_tokenize(correction[i])\n",
        "  det_lst = [word for (word, pos) in nltk.pos_tag(txt_out) if is_det(pos)]\n",
        "  if det_lst != []:\n",
        "    result = correction[i].replace(det_lst[0], '', 1)\n",
        "  else:\n",
        "    result = correction[i]\n",
        "  correction[i] = result"
      ],
      "execution_count": null,
      "outputs": []
    },
    {
      "cell_type": "code",
      "metadata": {
        "id": "GUNj0GOM9xKd"
      },
      "source": [
        "for i in un_errored_index:\n",
        "  txt_out = nltk.word_tokenize(correction[i])\n",
        "  verb_lst = [word for (word, pos) in nltk.pos_tag(txt_out) if is_verb(pos)]\n",
        "  if verb_lst != []:\n",
        "    result = correction[i].replace(verb_lst[0], '', 1)\n",
        "  else:\n",
        "    result = correction[i]\n",
        "  correction[i] = result"
      ],
      "execution_count": null,
      "outputs": []
    },
    {
      "cell_type": "code",
      "metadata": {
        "id": "RSxTwmeQ-ACj"
      },
      "source": [
        "for i in un_errored_index:\n",
        "  txt_out = nltk.word_tokenize(correction[i])\n",
        "  prep_lst = [word for (word, pos) in nltk.pos_tag(txt_out) if is_prep(pos)]\n",
        "  if prep_lst != []:\n",
        "    result = english[i].replace(prep_lst[0], '', 1)\n",
        "  else:\n",
        "    result = english[i]\n",
        "  correction[i] = result"
      ],
      "execution_count": null,
      "outputs": []
    },
    {
      "cell_type": "code",
      "metadata": {
        "id": "xmZUZToh-FYo"
      },
      "source": [
        "for i in un_errored_index:\n",
        "  txt_out = nltk.word_tokenize(correction[i])\n",
        "  pro_lst = [word for (word, pos) in nltk.pos_tag(txt_out) if is_pro(pos)]\n",
        "  if pro_lst != []:\n",
        "    result = english[i].replace(pro_lst[0], '', 1)\n",
        "  else:\n",
        "    result = english[i]\n",
        "  correction[i] = result"
      ],
      "execution_count": null,
      "outputs": []
    },
    {
      "cell_type": "code",
      "metadata": {
        "id": "hSXNr6Od97Sa"
      },
      "source": [
        "for i in un_errored_index:\n",
        "  txt_out = nltk.word_tokenize(correction[i])\n",
        "  conj_lst = [word for (word, pos) in nltk.pos_tag(txt_out) if is_conj(pos)]\n",
        "  if conj_lst != []:\n",
        "    result = english[i].replace(conj_lst[0], '', 1)\n",
        "  else:\n",
        "    result = english[i]\n",
        "  correction[i] = result"
      ],
      "execution_count": null,
      "outputs": []
    },
    {
      "cell_type": "code",
      "metadata": {
        "colab": {
          "base_uri": "https://localhost:8080/"
        },
        "id": "zBVGJDfP-jg2",
        "outputId": "8097084e-e9c5-4b0d-b9b3-05872c92bcf9"
      },
      "source": [
        "un_errored_index"
      ],
      "execution_count": null,
      "outputs": [
        {
          "output_type": "execute_result",
          "data": {
            "text/plain": [
              "[895822, 906883]"
            ]
          },
          "metadata": {
            "tags": []
          },
          "execution_count": 269
        }
      ]
    },
    {
      "cell_type": "code",
      "metadata": {
        "colab": {
          "base_uri": "https://localhost:8080/"
        },
        "id": "iOvztugu-hER",
        "outputId": "f21f045e-45bc-4e1f-f708-1539f694a314"
      },
      "source": [
        "txt_out = nltk.word_tokenize(correction[895822])\n",
        "nltk.pos_tag(txt_out)"
      ],
      "execution_count": null,
      "outputs": [
        {
          "output_type": "execute_result",
          "data": {
            "text/plain": [
              "[('Yes', 'UH'), (',', ','), ('certainly', 'RB'), ('.', '.')]"
            ]
          },
          "metadata": {
            "tags": []
          },
          "execution_count": 270
        }
      ]
    },
    {
      "cell_type": "code",
      "metadata": {
        "id": "gwzPvoDz-pml"
      },
      "source": [
        "is_others = lambda pos: pos[:2] == 'RB'"
      ],
      "execution_count": null,
      "outputs": []
    },
    {
      "cell_type": "code",
      "metadata": {
        "id": "J_f1fc20-vk-"
      },
      "source": [
        "# some other POS\n",
        "for i in un_errored_index:\n",
        "  txt_out = nltk.word_tokenize(correction[i])\n",
        "  lst = [word for (word, pos) in nltk.pos_tag(txt_out) if is_others(pos)]\n",
        "  if lst != []:\n",
        "    result = english[i].replace(lst[0], '', 1)\n",
        "  else:\n",
        "    result = english[i]\n",
        "  correction[i] = result"
      ],
      "execution_count": null,
      "outputs": []
    },
    {
      "cell_type": "code",
      "metadata": {
        "colab": {
          "base_uri": "https://localhost:8080/"
        },
        "id": "EbhmCCSQ9Y2Q",
        "outputId": "7f7275e0-88ab-42d0-9963-5fe1bbe68422"
      },
      "source": [
        "un_errored_index = []\n",
        "for i in range(888843, 925462):\n",
        "  if english[i] == correction[i]:\n",
        "    un_errored_index.append(i)\n",
        "\n",
        "len(un_errored_index)"
      ],
      "execution_count": null,
      "outputs": [
        {
          "output_type": "execute_result",
          "data": {
            "text/plain": [
              "0"
            ]
          },
          "metadata": {
            "tags": []
          },
          "execution_count": 273
        }
      ]
    },
    {
      "cell_type": "code",
      "metadata": {
        "id": "gjJYNmlu2Aix"
      },
      "source": [
        "# extra word\n",
        "for i in range(925462, 962081):\n",
        "  txt_out = nltk.word_tokenize(correction[i])\n",
        "  duplication = random.choice(txt_out)\n",
        "  index = correction[i].find(duplication)\n",
        "  result = correction[i][:index] + duplication + ' ' + correction[i][index:]\n",
        "  correction[i] = result"
      ],
      "execution_count": null,
      "outputs": []
    },
    {
      "cell_type": "code",
      "metadata": {
        "colab": {
          "base_uri": "https://localhost:8080/"
        },
        "id": "aPnBM49P_jKr",
        "outputId": "5e64da65-d538-443a-ac22-42174fdba24d"
      },
      "source": [
        "un_errored_index = []\n",
        "for i in range(925462, 962081):\n",
        "  if english[i] == correction[i]:\n",
        "    un_errored_index.append(i)\n",
        "\n",
        "len(un_errored_index)"
      ],
      "execution_count": null,
      "outputs": [
        {
          "output_type": "execute_result",
          "data": {
            "text/plain": [
              "0"
            ]
          },
          "metadata": {
            "tags": []
          },
          "execution_count": 275
        }
      ]
    },
    {
      "cell_type": "code",
      "metadata": {
        "id": "kseAWwkb2Al5"
      },
      "source": [
        "# substitude\n",
        "for i in range(962081, 998701):\n",
        "  s = correction[i]\n",
        "  misspelled_s = ''\n",
        "  misspelled_list = []\n",
        "  for item in s.split(' '):\n",
        "    n = random.randint(0,1)\n",
        "    if n == 1:\n",
        "      misspelled_list.append(misspeller(item))\n",
        "    else:\n",
        "      misspelled_list.append(item)\n",
        "  misspelled_s = ' '.join(misspelled_list)\n",
        "  correction[i] = misspelled_s"
      ],
      "execution_count": null,
      "outputs": []
    },
    {
      "cell_type": "code",
      "metadata": {
        "id": "CMfFUcnS_4tS"
      },
      "source": [
        "for i in un_errored_index:\n",
        "  s = correction[i]\n",
        "  misspelled_s = ''\n",
        "  misspelled_list = []\n",
        "  for item in s.split(' '):\n",
        "    n = random.randint(0,1)\n",
        "    if n == 1:\n",
        "      misspelled_list.append(misspeller(item))\n",
        "    else:\n",
        "      misspelled_list.append(item)\n",
        "  misspelled_s = ' '.join(misspelled_list)\n",
        "  correction[i] = misspelled_s"
      ],
      "execution_count": null,
      "outputs": []
    },
    {
      "cell_type": "code",
      "metadata": {
        "colab": {
          "base_uri": "https://localhost:8080/"
        },
        "id": "hawfyTgA2Axk",
        "outputId": "3ad356ff-c92b-471d-972a-bdcb059725d8"
      },
      "source": [
        "un_errored_index = []\n",
        "for i in range(962081, 998701):\n",
        "  if english[i] == correction[i]:\n",
        "    un_errored_index.append(i)\n",
        "\n",
        "len(un_errored_index)"
      ],
      "execution_count": null,
      "outputs": [
        {
          "output_type": "execute_result",
          "data": {
            "text/plain": [
              "0"
            ]
          },
          "metadata": {
            "tags": []
          },
          "execution_count": 285
        }
      ]
    },
    {
      "cell_type": "markdown",
      "metadata": {
        "id": "XRoy9IcBATGO"
      },
      "source": [
        "## Check"
      ]
    },
    {
      "cell_type": "code",
      "metadata": {
        "colab": {
          "base_uri": "https://localhost:8080/"
        },
        "id": "WfBbN5dKASW4",
        "outputId": "8e65fced-84bb-42b1-837e-f920d0130998"
      },
      "source": [
        "un_errored_index = []\n",
        "for i in range(len(english)):\n",
        "  if english[i] == correction[i]:\n",
        "    un_errored_index.append(i)\n",
        "\n",
        "len(un_errored_index)"
      ],
      "execution_count": null,
      "outputs": [
        {
          "output_type": "execute_result",
          "data": {
            "text/plain": [
              "0"
            ]
          },
          "metadata": {
            "tags": []
          },
          "execution_count": 292
        }
      ]
    },
    {
      "cell_type": "code",
      "metadata": {
        "colab": {
          "base_uri": "https://localhost:8080/"
        },
        "id": "pvgQxk4BBHub",
        "outputId": "31596a1f-7178-463b-ceaa-aed57dd80a0d"
      },
      "source": [
        "english[:5]"
      ],
      "execution_count": null,
      "outputs": [
        {
          "output_type": "execute_result",
          "data": {
            "text/plain": [
              "['There is no European code of ethics, however, and there are no agreements at national level.',\n",
              " 'The Shepherd is in charge of making children sleep peacefully , but Tim is not about to go to bed .',\n",
              " \"The wand given to Alora transforms into a spear , and the Princess pierces the dragon 's heart .\",\n",
              " \"I was particularly struck by Paragraph 15, in which the European Parliament 'calls on the Commission to strengthen the structural funds' potential through simplification, flexibility and improvement of procedures ... with the aims of helping Member States to optimise the output of social and employment policies and creating sustainable growth'.\",\n",
              " 'A traveling salessman meets a beautiful young girl by a motel swimming pool and picks her up .']"
            ]
          },
          "metadata": {
            "tags": []
          },
          "execution_count": 289
        }
      ]
    },
    {
      "cell_type": "code",
      "metadata": {
        "colab": {
          "base_uri": "https://localhost:8080/"
        },
        "id": "NNAWEw2yBJbx",
        "outputId": "fc3b6ada-21e8-4898-a489-24d43192958c"
      },
      "source": [
        "correction[:5]"
      ],
      "execution_count": null,
      "outputs": [
        {
          "output_type": "execute_result",
          "data": {
            "text/plain": [
              "['There   European code of ethics, however, and there are no agreements at national level.',\n",
              " ' Shepherd is in charge of making children sleep peacefully , but Tim is not about to go to bed .',\n",
              " \" wand given to Alora transforms into a spear , and the Princess pierces the dragon 's heart .\",\n",
              " \"I was particularly struck by Paragraph 15, in which  European Parliament 'calls on the Commission to strengthen the structural funds' potential through simplification, flexibility and improvement of procedures ... with the aims of helping Member States to optimise the output of social and employment policies and creating sustainable growth'.\",\n",
              " ' traveling salessman meets a beautiful young girl by a motel swimming pool and picks her up .']"
            ]
          },
          "metadata": {
            "tags": []
          },
          "execution_count": 290
        }
      ]
    },
    {
      "cell_type": "code",
      "metadata": {
        "id": "hp9UIIN9Addm"
      },
      "source": [
        "# save to file\n",
        "with open(\"./correction_outfile.txt\", \"w\") as outfile:\n",
        "  outfile.write(\"\\n\".join(correction))"
      ],
      "execution_count": null,
      "outputs": []
    },
    {
      "cell_type": "code",
      "metadata": {
        "colab": {
          "base_uri": "https://localhost:8080/",
          "height": 53
        },
        "id": "fxAT1pImBwcM",
        "outputId": "a16ff4b5-be5f-493c-f912-331b44e97d6c"
      },
      "source": [
        "result = english[0]+\"\\t\"+correction[0]\n",
        "result"
      ],
      "execution_count": null,
      "outputs": [
        {
          "output_type": "execute_result",
          "data": {
            "application/vnd.google.colaboratory.intrinsic+json": {
              "type": "string"
            },
            "text/plain": [
              "'There is no European code of ethics, however, and there are no agreements at national level.\\tThere   European code of ethics, however, and there are no agreements at national level.'"
            ]
          },
          "metadata": {
            "tags": []
          },
          "execution_count": 291
        }
      ]
    },
    {
      "cell_type": "code",
      "metadata": {
        "id": "MaeMikKPBMqE"
      },
      "source": [
        "part2_lst = []\n",
        "for i in range(len(english)):\n",
        "  result = english[i]+\"\\t\"+correction[i]\n",
        "  part2_lst.append(result)"
      ],
      "execution_count": null,
      "outputs": []
    },
    {
      "cell_type": "code",
      "metadata": {
        "id": "mFSws0T6CuBU"
      },
      "source": [
        "random.shuffle(part2_lst)"
      ],
      "execution_count": null,
      "outputs": []
    },
    {
      "cell_type": "code",
      "metadata": {
        "id": "CBBjUFXmCEu7"
      },
      "source": [
        "# save to file\n",
        "with open(\"./part2.txt\", \"w\") as outfile:\n",
        "  outfile.write(\"\\n\".join(part2_lst))"
      ],
      "execution_count": null,
      "outputs": []
    },
    {
      "cell_type": "code",
      "metadata": {
        "id": "ZmFojXbsktmD",
        "colab": {
          "base_uri": "https://localhost:8080/"
        },
        "outputId": "49e4bdc3-5b1c-4977-8ac3-3f40350f8343"
      },
      "source": [
        "english[80:90]"
      ],
      "execution_count": null,
      "outputs": [
        {
          "output_type": "execute_result",
          "data": {
            "text/plain": [
              "['Lisa P. asks James out on a date , but he has mixed feelings because of his relationship with Em .',\n",
              " 'Cooperation among Member States and with countries and regions from the EU neighbourhood such as the Black Sea, Baltic and Mediterranean opens up opportunities to prevent transborder pollution.',\n",
              " 'I would emphasize that this is important and is the reason for the amendments which were tabled in the Fisheries Committee.',\n",
              " \"Vrenna drew her saber and San'doro drew his knives.\",\n",
              " 'Zi-ming is romantic , very literary , BoBo is vain but in tune with reality , after detecting they are farther .',\n",
              " \"Mary admits to Norman that she has been part of Lila 's ruse , and that while she now refuses to continue , Lila will not stop .\",\n",
              " 'Would you want to come across a lorry driver on the road who has been driving for 30 hours without a break?',\n",
              " 'Cheyenne Harry stands up to the powerful criminal boss Dave Bland who dominates Paradise Creek Valley .',\n",
              " 'The Deer Park to the north of the excavations is just a modern afterthought, pleasant to relax in, but not related to the original.',\n",
              " 'Returning home from working the graveyard shift , Jill is shocked that Molly is missing .']"
            ]
          },
          "metadata": {
            "tags": []
          },
          "execution_count": 301
        }
      ]
    }
  ]
}